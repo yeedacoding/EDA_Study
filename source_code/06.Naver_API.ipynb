{
 "cells": [
  {
   "cell_type": "markdown",
   "metadata": {},
   "source": [
    "# Naver API 활용 몰스킨 데이터 수집 및 시각화"
   ]
  },
  {
   "cell_type": "markdown",
   "metadata": {},
   "source": [
    "---\n",
    "## 1. 네이버 검색 API 호출 - 쇼핑 검색"
   ]
  },
  {
   "cell_type": "code",
   "execution_count": 2,
   "metadata": {},
   "outputs": [
    {
     "name": "stdout",
     "output_type": "stream",
     "text": [
      "{\n",
      "\t\"lastBuildDate\":\"Wed, 09 Oct 2024 01:02:56 +0900\",\n",
      "\t\"total\":53625,\n",
      "\t\"start\":1,\n",
      "\t\"display\":10,\n",
      "\t\"items\":[\n",
      "\t\t{\n",
      "\t\t\t\"title\":\"베트남 스타벅스 2023 MD 달력 <b>몰스킨<\\/b> 다이어리\",\n",
      "\t\t\t\"link\":\"https:\\/\\/gem87.tistory.com\\/736\",\n",
      "\t\t\t\"description\":\"'2023년 <b>몰스킨<\\/b> 다이어리'도 있는데, 이건 스타벅스 카드에 2.3 mil vnd 이상을 충전해야 하는 것이... 혹여나 쓴다 하여도 굳이 <b>몰스킨<\\/b> 다이어리를 쓸 필요가 없기 때문에 포기. <b>몰스킨<\\/b> 다이어리의 기본 가격이 꽤... \",\n",
      "\t\t\t\"bloggername\":\"몽상가\",\n",
      "\t\t\t\"bloggerlink\":\"https:\\/\\/gem87.tistory.com\\/\",\n",
      "\t\t\t\"postdate\":\"20221226\"\n",
      "\t\t},\n",
      "\t\t{\n",
      "\t\t\t\"title\":\"두 번째 모닝페이지 노트를 채우며 : 노트 비교(펜코, <b>몰스킨<\\/b>)\",\n",
      "\t\t\t\"link\":\"https:\\/\\/blog.naver.com\\/nanab9\\/223041431750\",\n",
      "\t\t\t\"description\":\"세 번째 모닝페이지 노트는 <b>몰스킨<\\/b> 클래식 룰드 하드커버 노트 라지 블랙 결론은 <b>몰스킨<\\/b>이었다. 그리고 나는 그런 내 판단을 기록 첫날부터 후회하기 시작했다. 쿠팡에서 오랜만에 쇼핑하러 왔다며 5천 원이나... \",\n",
      "\t\t\t\"bloggername\":\"책 속에 다락방\",\n",
      "\t\t\t\"bloggerlink\":\"blog.naver.com\\/nanab9\",\n",
      "\t\t\t\"postdate\":\"20230311\"\n",
      "\t\t},\n",
      "\t\t{\n",
      "\t\t\t\"title\":\"르몽생미셸 워크재킷 <b>몰스킨<\\/b> 개버딘 신세계백화점... \",\n",
      "\t\t\t\"link\":\"https:\\/\\/blog.naver.com\\/ungsblue\\/223408495009\",\n",
      "\t\t\t\"description\":\"르몽생미셸 워크재킷 <b>몰스킨<\\/b> 개버딘 신세계백화점 타임스퀘어점 구입기 사진 글 사진찍는 마케터... <b>몰스킨<\\/b> : 가장 기본적인 아이템. 스탠다드한 핏감과 탄탄한 소재로, 봄\\/가을에 입기 좋다. 코튼 트윌... \",\n",
      "\t\t\t\"bloggername\":\"크리에이티브를 위한 축적의 시간\",\n",
      "\t\t\t\"bloggerlink\":\"blog.naver.com\\/ungsblue\",\n",
      "\t\t\t\"postdate\":\"20240410\"\n",
      "\t\t},\n",
      "\t\t{\n",
      "\t\t\t\"title\":\"2025 <b>몰스킨<\\/b> 클래식 데일리 하드커버 스칼렛 레드 포켓... \",\n",
      "\t\t\t\"link\":\"https:\\/\\/blog.naver.com\\/youbijou\\/223592989324\",\n",
      "\t\t\t\"description\":\"바로 2025 <b>몰스킨<\\/b> 클래식 데일리 하드커버 스칼렛 레드 포켓 사이즈랍니다. (아..길다;;;) 로이텀도 썼지만, 작년에 2024 스타벅스에서 박은 <b>몰스킨<\\/b>에서 제작된 다이어리를 써보니 <b>몰스킨<\\/b>이 저에겐 더 잘... \",\n",
      "\t\t\t\"bloggername\":\"드레스 공방 이야기\",\n",
      "\t\t\t\"bloggerlink\":\"blog.naver.com\\/youbijou\",\n",
      "\t\t\t\"postdate\":\"20240923\"\n",
      "\t\t},\n",
      "\t\t{\n",
      "\t\t\t\"title\":\"2025 다이어리 비교-2(<b>몰스킨<\\/b> 데일리 포켓, 미도리 하루... \",\n",
      "\t\t\t\"link\":\"https:\\/\\/blog.naver.com\\/eeheemrhakfdk\\/223609374945\",\n",
      "\t\t\t\"description\":\"암튼 <b>몰스킨<\\/b> 부터 가보겠습니다. 제가 구매한 건 <b>몰스킨<\\/b> 데일리 소프트커버- 포켓사이즈 머틀그린 컬러이구요, 예전에 올림픽에서 어떤 선수가 경기중에 다이어리를 쓰면서 유명해졌던 컬러라고 알고있는데... \",\n",
      "\t\t\t\"bloggername\":\"강도가 되\",\n",
      "\t\t\t\"bloggerlink\":\"blog.naver.com\\/eeheemrhakfdk\",\n",
      "\t\t\t\"postdate\":\"20241006\"\n",
      "\t\t},\n",
      "\t\t{\n",
      "\t\t\t\"title\":\"[변호사 일기] 나의 세 번째 <b>몰스킨<\\/b>\",\n",
      "\t\t\t\"link\":\"https:\\/\\/blog.naver.com\\/kjiwon1018\\/223536886715\",\n",
      "\t\t\t\"description\":\"세 번째 <b>몰스킨<\\/b> 스퀘어드 라지를 쓰기 시작했다. 앞의 두 권은 기본 버전이었고, 이번은 페이지수가... 그 동안 아빠가 해주신 말씀들을 두 번째 <b>몰스킨<\\/b> 마지막 장까지 빼곡하게 채워, 한 마디를 빼놓을 세라... \",\n",
      "\t\t\t\"bloggername\":\"생각하고 글쓰고 LIVE\",\n",
      "\t\t\t\"bloggerlink\":\"blog.naver.com\\/kjiwon1018\",\n",
      "\t\t\t\"postdate\":\"20240805\"\n",
      "\t\t},\n",
      "\t\t{\n",
      "\t\t\t\"title\":\"<b>몰스킨<\\/b> 2022-2023년 18개월 다이어리 위클리 소프트커버 XL... \",\n",
      "\t\t\t\"link\":\"https:\\/\\/irubia.tistory.com\\/489\",\n",
      "\t\t\t\"description\":\"저는 성인이 되고 난 이후에는 <b>몰스킨<\\/b>의 위클리 다이어리를 계속 사용하고 있고, 최근 몇 년 간은... <b>몰스킨<\\/b> 2022-23년 18개월 다이어리 위클리 소프트커버 XL 엑스라지에서 느끼는 웅장함 <b>몰스킨<\\/b> 다이어리를... \",\n",
      "\t\t\t\"bloggername\":\"irubia blog\",\n",
      "\t\t\t\"bloggerlink\":\"https:\\/\\/irubia.tistory.com\\/\",\n",
      "\t\t\t\"postdate\":\"20221211\"\n",
      "\t\t},\n",
      "\t\t{\n",
      "\t\t\t\"title\":\"<b>몰스킨<\\/b>과 기록 반평생 1편\",\n",
      "\t\t\t\"link\":\"https:\\/\\/blog.naver.com\\/grimaldi\\/223252240994\",\n",
      "\t\t\t\"description\":\"오늘의 주인공은 바로 <b>몰스킨<\\/b> Moleskine입니다. 언젠가는 <b>몰스킨<\\/b>에 대해 글을 쓸 날이 있을 것이라 생각했는데 타오바오에서 직구한 노트 4개가 도착한 것을 보다가 갑자기 글을 쓰게 되었습니다. 처음 <b>몰스킨<\\/b>을... \",\n",
      "\t\t\t\"bloggername\":\"미라클워커 저널\",\n",
      "\t\t\t\"bloggerlink\":\"blog.naver.com\\/grimaldi\",\n",
      "\t\t\t\"postdate\":\"20231101\"\n",
      "\t\t},\n",
      "\t\t{\n",
      "\t\t\t\"title\":\"5년간 사용한 이유, 위클리 버티컬 <b>몰스킨<\\/b> 다이어리와 비교 분석\",\n",
      "\t\t\t\"link\":\"https:\\/\\/blog.naver.com\\/aqua0223\\/223603262372\",\n",
      "\t\t\t\"description\":\"메르시 어젠다를 사용하는 이유 메르시 어젠다 구성 소개 <b>몰스킨<\\/b> 다이어리와 비교 5. 어젠다 활용... :) 2024 메르시 어젠다 후기 2023 메르시 어젠다 &amp; <b>몰스킨<\\/b> 다이어리 비교 후기 1. 프랑스 직구 가격 메르시... \",\n",
      "\t\t\t\"bloggername\":\"WALK AROUND\",\n",
      "\t\t\t\"bloggerlink\":\"blog.naver.com\\/aqua0223\",\n",
      "\t\t\t\"postdate\":\"20241001\"\n",
      "\t\t},\n",
      "\t\t{\n",
      "\t\t\t\"title\":\"문구의 자초지종 2편 | 역사 깊은 캠퍼스노트와 <b>몰스킨<\\/b>... \",\n",
      "\t\t\t\"link\":\"https:\\/\\/blog.naver.com\\/dewsweet\\/223491515861\",\n",
      "\t\t\t\"description\":\"<b>몰스킨<\\/b>의 역사 <b>몰스킨<\\/b>은 19세기 후반 프랑스에서 만든 메모장이다. 기름으로 방수처리를 한 하드커버가 특징이다. 고흐, 피카소, 헤밍웨이가 애용하고 영국 여행작가 브루스 채트윈이 여행에 꼭 휴대한 것으로... \",\n",
      "\t\t\t\"bloggername\":\"유랑책방\",\n",
      "\t\t\t\"bloggerlink\":\"blog.naver.com\\/dewsweet\",\n",
      "\t\t\t\"postdate\":\"20240626\"\n",
      "\t\t}\n",
      "\t]\n",
      "}\n"
     ]
    }
   ],
   "source": [
    "import os\n",
    "import sys\n",
    "import urllib.request\n",
    "\n",
    "client_id = \"SGLHGjPZGSsFRhhdmqyJ\"\n",
    "client_secret = \"ECpkEOboRw\"\n",
    "\n",
    "encText = urllib.parse.quote(\"몰스킨\")\n",
    "url = \"https://openapi.naver.com/v1/search/blog?query=\" + encText # JSON 결과\n",
    "\n",
    "request = urllib.request.Request(url)\n",
    "request.add_header(\"X-Naver-Client-Id\",client_id)\n",
    "request.add_header(\"X-Naver-Client-Secret\",client_secret)\n",
    "\n",
    "response = urllib.request.urlopen(request)\n",
    "rescode = response.getcode()\n",
    "\n",
    "if(rescode==200):\n",
    "    response_body = response.read()\n",
    "    print(response_body.decode('utf-8'))\n",
    "else:\n",
    "    print(\"Error Code:\" + rescode)"
   ]
  },
  {
   "cell_type": "markdown",
   "metadata": {},
   "source": [
    "---\n",
    "## 2. url 생성 함수\n",
    "- api_node : 검색 노드 선택(shop, blog, book ...)\n",
    "- search_text : 검색할 단어\n",
    "- start_num : url에서 start 파라미터로 전달할 값\n",
    "- disp_num : url에서 display 파라미터로 전달할 값"
   ]
  },
  {
   "cell_type": "code",
   "execution_count": 7,
   "metadata": {},
   "outputs": [],
   "source": [
    "def gen_search_url(api_node, search_text, start_num, disp_num) :\n",
    "    base = \"https://openapi.naver.com/v1/search\"\n",
    "    node = \"/\" + api_node + \".json\"\n",
    "    param_query = \"?query=\" + urllib.parse.quote(search_text) \n",
    "    param_start = \"&start=\" + str(start_num)\n",
    "    param_disp = \"&display=\" + str(disp_num)\n",
    "\n",
    "    return base + node + param_query + param_start + param_disp"
   ]
  },
  {
   "cell_type": "markdown",
   "metadata": {},
   "source": [
    "- 네이버 쇼핑에 “몰스킨” 단어를 검색했을 때, 10번째 제품부터 3개에 대한 제품 데이터를 가져올 url 생성"
   ]
  },
  {
   "cell_type": "code",
   "execution_count": 8,
   "metadata": {},
   "outputs": [
    {
     "data": {
      "text/plain": [
       "'https://openapi.naver.com/v1/search/shop.json?query=TEST&start=10&display=3'"
      ]
     },
     "execution_count": 8,
     "metadata": {},
     "output_type": "execute_result"
    }
   ],
   "source": [
    "gen_search_url('shop', 'TEST', 10, 3)"
   ]
  },
  {
   "cell_type": "markdown",
   "metadata": {},
   "source": [
    "---\n",
    "## 3. 한 개 페이지에서 데이터를 가져올 함수 생성"
   ]
  },
  {
   "cell_type": "code",
   "execution_count": 9,
   "metadata": {},
   "outputs": [],
   "source": [
    "import json\n",
    "import datetime\n",
    "\n",
    "def get_result_onpage(url, c_id, c_secret) :\n",
    "    request = urllib.request.Request(url)\n",
    "    request.add_header(\"X-Naver-Client-Id\", c_id)\n",
    "    request.add_header(\"X-Naver-Client-Secret\", c_secret)\n",
    "\n",
    "    response = urllib.request.urlopen(request)\n",
    "    rescode = response.getcode()\n",
    "\n",
    "    if rescode==200 :\n",
    "        print(\"[%s] Url Request Success\" % datetime.datetime.now())\n",
    "        return json.loads(response.read().decode(\"utf-8\"))\n",
    "    else :\n",
    "        print(\"Error Code:\" + rescode)"
   ]
  },
  {
   "cell_type": "code",
   "execution_count": 14,
   "metadata": {},
   "outputs": [
    {
     "name": "stdout",
     "output_type": "stream",
     "text": [
      "[2024-10-09 01:32:56.469999] Url Request Success\n"
     ]
    },
    {
     "data": {
      "text/plain": [
       "{'lastBuildDate': 'Wed, 09 Oct 2024 01:32:56 +0900',\n",
       " 'total': 44817,\n",
       " 'start': 1,\n",
       " 'display': 5,\n",
       " 'items': [{'title': '<b>몰스킨</b> 클래식노트 하드커버',\n",
       "   'link': 'https://search.shopping.naver.com/catalog/46221773618',\n",
       "   'image': 'https://shopping-phinf.pstatic.net/main_4622177/46221773618.20240306165408.jpg',\n",
       "   'lprice': '28800',\n",
       "   'hprice': '',\n",
       "   'mallName': '네이버',\n",
       "   'productId': '46221773618',\n",
       "   'productType': '1',\n",
       "   'brand': '몰스킨',\n",
       "   'maker': '몰스킨',\n",
       "   'category1': '생활/건강',\n",
       "   'category2': '문구/사무용품',\n",
       "   'category3': '노트/수첩',\n",
       "   'category4': '노트'},\n",
       "  {'title': '<b>몰스킨</b> 2025 클래식 데일리 다이어리 사파이어블루 하드커버 포켓',\n",
       "   'link': 'https://search.shopping.naver.com/catalog/50098568970',\n",
       "   'image': 'https://shopping-phinf.pstatic.net/main_5009856/50098568970.20240916190333.jpg',\n",
       "   'lprice': '32400',\n",
       "   'hprice': '',\n",
       "   'mallName': '네이버',\n",
       "   'productId': '50098568970',\n",
       "   'productType': '1',\n",
       "   'brand': '몰스킨',\n",
       "   'maker': '',\n",
       "   'category1': '생활/건강',\n",
       "   'category2': '문구/사무용품',\n",
       "   'category3': '다이어리/플래너',\n",
       "   'category4': '다이어리'},\n",
       "  {'title': '올젠 올젠남성 가을 <b>몰스킨</b> 케주얼 쟈켓 ZOD3KG1312',\n",
       "   'link': 'https://search.shopping.naver.com/catalog/50423257169',\n",
       "   'image': 'https://shopping-phinf.pstatic.net/main_5042325/50423257169.20240922093647.jpg',\n",
       "   'lprice': '109700',\n",
       "   'hprice': '',\n",
       "   'mallName': '네이버',\n",
       "   'productId': '50423257169',\n",
       "   'productType': '1',\n",
       "   'brand': '올젠',\n",
       "   'maker': '신성통상',\n",
       "   'category1': '패션의류',\n",
       "   'category2': '남성의류',\n",
       "   'category3': '재킷',\n",
       "   'category4': ''},\n",
       "  {'title': '<b>몰스킨</b> 클래식노트 소프트커버',\n",
       "   'link': 'https://search.shopping.naver.com/catalog/46242305618',\n",
       "   'image': 'https://shopping-phinf.pstatic.net/main_4624230/46242305618.20240307141647.jpg',\n",
       "   'lprice': '27600',\n",
       "   'hprice': '',\n",
       "   'mallName': '네이버',\n",
       "   'productId': '46242305618',\n",
       "   'productType': '1',\n",
       "   'brand': '몰스킨',\n",
       "   'maker': '몰스킨',\n",
       "   'category1': '생활/건강',\n",
       "   'category2': '문구/사무용품',\n",
       "   'category3': '노트/수첩',\n",
       "   'category4': '노트'},\n",
       "  {'title': '헨리코튼 Italian Fabric <b>몰스킨</b> 자켓 AHJAW23501BEX',\n",
       "   'link': 'https://search.shopping.naver.com/catalog/49126559290',\n",
       "   'image': 'https://shopping-phinf.pstatic.net/main_4912655/49126559290.20240714000552.jpg',\n",
       "   'lprice': '234060',\n",
       "   'hprice': '',\n",
       "   'mallName': '네이버',\n",
       "   'productId': '49126559290',\n",
       "   'productType': '1',\n",
       "   'brand': '헨리코튼',\n",
       "   'maker': '코오롱인더스트리',\n",
       "   'category1': '패션의류',\n",
       "   'category2': '남성의류',\n",
       "   'category3': '재킷',\n",
       "   'category4': ''}]}"
      ]
     },
     "execution_count": 14,
     "metadata": {},
     "output_type": "execute_result"
    }
   ],
   "source": [
    "client_id = \"SGLHGjPZGSsFRhhdmqyJ\"\n",
    "client_secret = \"ECpkEOboRw\"\n",
    "\n",
    "api_node = \"shop\"\n",
    "search_text = \"몰스킨\"\n",
    "start_num = 1\n",
    "disp_num = 5\n",
    "\n",
    "url = gen_search_url(api_node, search_text, start_num, disp_num)\n",
    "one_result = get_result_onpage(url, client_id, client_secret)\n",
    "\n",
    "one_result"
   ]
  },
  {
   "cell_type": "markdown",
   "metadata": {},
   "source": [
    "### json에서 items만 추출하기\n",
    "- 필요한 데이터는 json에서 items key값에 대한 value값들이므로 해당 값들을 추출해보자."
   ]
  },
  {
   "cell_type": "code",
   "execution_count": 15,
   "metadata": {},
   "outputs": [
    {
     "data": {
      "text/plain": [
       "[{'title': '<b>몰스킨</b> 클래식노트 하드커버',\n",
       "  'link': 'https://search.shopping.naver.com/catalog/46221773618',\n",
       "  'image': 'https://shopping-phinf.pstatic.net/main_4622177/46221773618.20240306165408.jpg',\n",
       "  'lprice': '28800',\n",
       "  'hprice': '',\n",
       "  'mallName': '네이버',\n",
       "  'productId': '46221773618',\n",
       "  'productType': '1',\n",
       "  'brand': '몰스킨',\n",
       "  'maker': '몰스킨',\n",
       "  'category1': '생활/건강',\n",
       "  'category2': '문구/사무용품',\n",
       "  'category3': '노트/수첩',\n",
       "  'category4': '노트'},\n",
       " {'title': '<b>몰스킨</b> 2025 클래식 데일리 다이어리 사파이어블루 하드커버 포켓',\n",
       "  'link': 'https://search.shopping.naver.com/catalog/50098568970',\n",
       "  'image': 'https://shopping-phinf.pstatic.net/main_5009856/50098568970.20240916190333.jpg',\n",
       "  'lprice': '32400',\n",
       "  'hprice': '',\n",
       "  'mallName': '네이버',\n",
       "  'productId': '50098568970',\n",
       "  'productType': '1',\n",
       "  'brand': '몰스킨',\n",
       "  'maker': '',\n",
       "  'category1': '생활/건강',\n",
       "  'category2': '문구/사무용품',\n",
       "  'category3': '다이어리/플래너',\n",
       "  'category4': '다이어리'},\n",
       " {'title': '올젠 올젠남성 가을 <b>몰스킨</b> 케주얼 쟈켓 ZOD3KG1312',\n",
       "  'link': 'https://search.shopping.naver.com/catalog/50423257169',\n",
       "  'image': 'https://shopping-phinf.pstatic.net/main_5042325/50423257169.20240922093647.jpg',\n",
       "  'lprice': '109700',\n",
       "  'hprice': '',\n",
       "  'mallName': '네이버',\n",
       "  'productId': '50423257169',\n",
       "  'productType': '1',\n",
       "  'brand': '올젠',\n",
       "  'maker': '신성통상',\n",
       "  'category1': '패션의류',\n",
       "  'category2': '남성의류',\n",
       "  'category3': '재킷',\n",
       "  'category4': ''},\n",
       " {'title': '<b>몰스킨</b> 클래식노트 소프트커버',\n",
       "  'link': 'https://search.shopping.naver.com/catalog/46242305618',\n",
       "  'image': 'https://shopping-phinf.pstatic.net/main_4624230/46242305618.20240307141647.jpg',\n",
       "  'lprice': '27600',\n",
       "  'hprice': '',\n",
       "  'mallName': '네이버',\n",
       "  'productId': '46242305618',\n",
       "  'productType': '1',\n",
       "  'brand': '몰스킨',\n",
       "  'maker': '몰스킨',\n",
       "  'category1': '생활/건강',\n",
       "  'category2': '문구/사무용품',\n",
       "  'category3': '노트/수첩',\n",
       "  'category4': '노트'},\n",
       " {'title': '헨리코튼 Italian Fabric <b>몰스킨</b> 자켓 AHJAW23501BEX',\n",
       "  'link': 'https://search.shopping.naver.com/catalog/49126559290',\n",
       "  'image': 'https://shopping-phinf.pstatic.net/main_4912655/49126559290.20240714000552.jpg',\n",
       "  'lprice': '234060',\n",
       "  'hprice': '',\n",
       "  'mallName': '네이버',\n",
       "  'productId': '49126559290',\n",
       "  'productType': '1',\n",
       "  'brand': '헨리코튼',\n",
       "  'maker': '코오롱인더스트리',\n",
       "  'category1': '패션의류',\n",
       "  'category2': '남성의류',\n",
       "  'category3': '재킷',\n",
       "  'category4': ''}]"
      ]
     },
     "execution_count": 15,
     "metadata": {},
     "output_type": "execute_result"
    }
   ],
   "source": [
    "one_result['items']"
   ]
  },
  {
   "cell_type": "markdown",
   "metadata": {},
   "source": [
    "- title, link, lprice, mallName 값을 가져와보자.\n",
    "- items의 value는 리스트로 이루어져있다."
   ]
  },
  {
   "cell_type": "code",
   "execution_count": 18,
   "metadata": {},
   "outputs": [
    {
     "name": "stdout",
     "output_type": "stream",
     "text": [
      "<b>몰스킨</b> 클래식노트 하드커버\n",
      "https://search.shopping.naver.com/catalog/46221773618\n",
      "28800\n",
      "네이버\n"
     ]
    }
   ],
   "source": [
    "print(one_result['items'][0]['title'])\n",
    "print(one_result['items'][0]['link'])\n",
    "print(one_result['items'][0]['lprice'])\n",
    "print(one_result['items'][0]['mallName'])"
   ]
  },
  {
   "cell_type": "markdown",
   "metadata": {},
   "source": [
    "---\n",
    "## 4. 데이터프레임 생성"
   ]
  },
  {
   "cell_type": "markdown",
   "metadata": {},
   "source": [
    "- 데이터프레임 생성 전에 json에서 가져온 ‘title’ 값에 <b>, </b>와 같은 html 태그도 함께 가져와졌다.\n",
    "- 이를 제거해주는 함수를 생성해보자."
   ]
  },
  {
   "cell_type": "code",
   "execution_count": 29,
   "metadata": {},
   "outputs": [],
   "source": [
    "def delete_tag(input_str) :\n",
    "    input_str = input_str.replace(\"<b>\", \"\")\n",
    "    input_str = input_str.replace(\"</b>\", \"\")\n",
    "\n",
    "    return input_str"
   ]
  },
  {
   "cell_type": "code",
   "execution_count": 30,
   "metadata": {},
   "outputs": [],
   "source": [
    "import pandas as pd\n",
    "\n",
    "def get_fields(json_data) :\n",
    "    title = [delete_tag(each['title']) for each in json_data['items']]\n",
    "    link = [each['link'] for each in json_data['items']]\n",
    "    lprice = [each['lprice'] for each in json_data['items']]\n",
    "    mall_name = [each['mallName'] for each in json_data['items']]\n",
    "\n",
    "    result_pd = pd.DataFrame({\n",
    "        'title' : title,\n",
    "        'link' : link,\n",
    "        'lprice' : lprice,\n",
    "        'mall' : mall_name\n",
    "    }, columns=['title', 'lprice', 'link', 'mall'])\n",
    "\n",
    "    return result_pd"
   ]
  },
  {
   "cell_type": "code",
   "execution_count": 31,
   "metadata": {},
   "outputs": [
    {
     "data": {
      "text/html": [
       "<div>\n",
       "<style scoped>\n",
       "    .dataframe tbody tr th:only-of-type {\n",
       "        vertical-align: middle;\n",
       "    }\n",
       "\n",
       "    .dataframe tbody tr th {\n",
       "        vertical-align: top;\n",
       "    }\n",
       "\n",
       "    .dataframe thead th {\n",
       "        text-align: right;\n",
       "    }\n",
       "</style>\n",
       "<table border=\"1\" class=\"dataframe\">\n",
       "  <thead>\n",
       "    <tr style=\"text-align: right;\">\n",
       "      <th></th>\n",
       "      <th>title</th>\n",
       "      <th>lprice</th>\n",
       "      <th>link</th>\n",
       "      <th>mall</th>\n",
       "    </tr>\n",
       "  </thead>\n",
       "  <tbody>\n",
       "    <tr>\n",
       "      <th>0</th>\n",
       "      <td>몰스킨 클래식노트 하드커버</td>\n",
       "      <td>28800</td>\n",
       "      <td>https://search.shopping.naver.com/catalog/4622...</td>\n",
       "      <td>네이버</td>\n",
       "    </tr>\n",
       "    <tr>\n",
       "      <th>1</th>\n",
       "      <td>몰스킨 2025 클래식 데일리 다이어리 사파이어블루 하드커버 포켓</td>\n",
       "      <td>32400</td>\n",
       "      <td>https://search.shopping.naver.com/catalog/5009...</td>\n",
       "      <td>네이버</td>\n",
       "    </tr>\n",
       "    <tr>\n",
       "      <th>2</th>\n",
       "      <td>올젠 올젠남성 가을 몰스킨 케주얼 쟈켓 ZOD3KG1312</td>\n",
       "      <td>109700</td>\n",
       "      <td>https://search.shopping.naver.com/catalog/5042...</td>\n",
       "      <td>네이버</td>\n",
       "    </tr>\n",
       "    <tr>\n",
       "      <th>3</th>\n",
       "      <td>몰스킨 클래식노트 소프트커버</td>\n",
       "      <td>27600</td>\n",
       "      <td>https://search.shopping.naver.com/catalog/4624...</td>\n",
       "      <td>네이버</td>\n",
       "    </tr>\n",
       "    <tr>\n",
       "      <th>4</th>\n",
       "      <td>헨리코튼 Italian Fabric 몰스킨 자켓 AHJAW23501BEX</td>\n",
       "      <td>234060</td>\n",
       "      <td>https://search.shopping.naver.com/catalog/4912...</td>\n",
       "      <td>네이버</td>\n",
       "    </tr>\n",
       "  </tbody>\n",
       "</table>\n",
       "</div>"
      ],
      "text/plain": [
       "                                      title  lprice  \\\n",
       "0                            몰스킨 클래식노트 하드커버   28800   \n",
       "1      몰스킨 2025 클래식 데일리 다이어리 사파이어블루 하드커버 포켓   32400   \n",
       "2          올젠 올젠남성 가을 몰스킨 케주얼 쟈켓 ZOD3KG1312  109700   \n",
       "3                           몰스킨 클래식노트 소프트커버   27600   \n",
       "4  헨리코튼 Italian Fabric 몰스킨 자켓 AHJAW23501BEX  234060   \n",
       "\n",
       "                                                link mall  \n",
       "0  https://search.shopping.naver.com/catalog/4622...  네이버  \n",
       "1  https://search.shopping.naver.com/catalog/5009...  네이버  \n",
       "2  https://search.shopping.naver.com/catalog/5042...  네이버  \n",
       "3  https://search.shopping.naver.com/catalog/4624...  네이버  \n",
       "4  https://search.shopping.naver.com/catalog/4912...  네이버  "
      ]
     },
     "execution_count": 31,
     "metadata": {},
     "output_type": "execute_result"
    }
   ],
   "source": [
    "get_fields(one_result)"
   ]
  },
  {
   "cell_type": "markdown",
   "metadata": {},
   "source": [
    "---\n",
    "## 5. 몰스킨 검색 결과 1000개 가져오기"
   ]
  },
  {
   "cell_type": "code",
   "execution_count": 32,
   "metadata": {},
   "outputs": [
    {
     "name": "stdout",
     "output_type": "stream",
     "text": [
      "[2024-10-09 01:56:14.407643] Url Request Success\n",
      "[2024-10-09 01:56:14.695386] Url Request Success\n",
      "[2024-10-09 01:56:14.928773] Url Request Success\n",
      "[2024-10-09 01:56:15.169331] Url Request Success\n",
      "[2024-10-09 01:56:15.424210] Url Request Success\n",
      "[2024-10-09 01:56:15.687079] Url Request Success\n",
      "[2024-10-09 01:56:15.941451] Url Request Success\n",
      "[2024-10-09 01:56:16.255333] Url Request Success\n",
      "[2024-10-09 01:56:16.510166] Url Request Success\n",
      "[2024-10-09 01:56:16.767477] Url Request Success\n"
     ]
    }
   ],
   "source": [
    "client_id = \"SGLHGjPZGSsFRhhdmqyJ\"\n",
    "client_secret = \"ECpkEOboRw\"\n",
    "\n",
    "api_node = \"shop\"\n",
    "search_text = \"몰스킨\"\n",
    "\n",
    "result_mol = []\n",
    "\n",
    "for n in range(1, 1000, 100) :\n",
    "    url = gen_search_url(api_node, search_text, n, 100)\n",
    "    json_result = get_result_onpage(url, client_id, client_secret)\n",
    "    pd_result = get_fields(json_result)\n",
    "\n",
    "    result_mol.append(pd_result)\n",
    "\n",
    "result_mol = pd.concat(result_mol)"
   ]
  },
  {
   "cell_type": "code",
   "execution_count": 33,
   "metadata": {},
   "outputs": [
    {
     "name": "stdout",
     "output_type": "stream",
     "text": [
      "<class 'pandas.core.frame.DataFrame'>\n",
      "Index: 1000 entries, 0 to 99\n",
      "Data columns (total 4 columns):\n",
      " #   Column  Non-Null Count  Dtype \n",
      "---  ------  --------------  ----- \n",
      " 0   title   1000 non-null   object\n",
      " 1   lprice  1000 non-null   object\n",
      " 2   link    1000 non-null   object\n",
      " 3   mall    1000 non-null   object\n",
      "dtypes: object(4)\n",
      "memory usage: 39.1+ KB\n"
     ]
    }
   ],
   "source": [
    "result_mol.info()"
   ]
  },
  {
   "cell_type": "code",
   "execution_count": 38,
   "metadata": {},
   "outputs": [
    {
     "name": "stdout",
     "output_type": "stream",
     "text": [
      "<class 'pandas.core.frame.DataFrame'>\n",
      "RangeIndex: 1000 entries, 0 to 999\n",
      "Data columns (total 4 columns):\n",
      " #   Column  Non-Null Count  Dtype \n",
      "---  ------  --------------  ----- \n",
      " 0   title   1000 non-null   object\n",
      " 1   lprice  1000 non-null   object\n",
      " 2   link    1000 non-null   object\n",
      " 3   mall    1000 non-null   object\n",
      "dtypes: object(4)\n",
      "memory usage: 31.4+ KB\n"
     ]
    }
   ],
   "source": [
    "result_mol.reset_index(drop=True, inplace=True)\n",
    "\n",
    "result_mol.info()"
   ]
  },
  {
   "cell_type": "code",
   "execution_count": 39,
   "metadata": {},
   "outputs": [
    {
     "data": {
      "text/html": [
       "<div>\n",
       "<style scoped>\n",
       "    .dataframe tbody tr th:only-of-type {\n",
       "        vertical-align: middle;\n",
       "    }\n",
       "\n",
       "    .dataframe tbody tr th {\n",
       "        vertical-align: top;\n",
       "    }\n",
       "\n",
       "    .dataframe thead th {\n",
       "        text-align: right;\n",
       "    }\n",
       "</style>\n",
       "<table border=\"1\" class=\"dataframe\">\n",
       "  <thead>\n",
       "    <tr style=\"text-align: right;\">\n",
       "      <th></th>\n",
       "      <th>title</th>\n",
       "      <th>lprice</th>\n",
       "      <th>link</th>\n",
       "      <th>mall</th>\n",
       "    </tr>\n",
       "  </thead>\n",
       "  <tbody>\n",
       "    <tr>\n",
       "      <th>0</th>\n",
       "      <td>몰스킨 클래식노트 하드커버</td>\n",
       "      <td>28800.0</td>\n",
       "      <td>https://search.shopping.naver.com/catalog/4622...</td>\n",
       "      <td>네이버</td>\n",
       "    </tr>\n",
       "    <tr>\n",
       "      <th>1</th>\n",
       "      <td>몰스킨 2025 클래식 데일리 다이어리 사파이어블루 하드커버 포켓</td>\n",
       "      <td>32400.0</td>\n",
       "      <td>https://search.shopping.naver.com/catalog/5009...</td>\n",
       "      <td>네이버</td>\n",
       "    </tr>\n",
       "    <tr>\n",
       "      <th>2</th>\n",
       "      <td>올젠 올젠남성 가을 몰스킨 케주얼 쟈켓 ZOD3KG1312</td>\n",
       "      <td>109700.0</td>\n",
       "      <td>https://search.shopping.naver.com/catalog/5042...</td>\n",
       "      <td>네이버</td>\n",
       "    </tr>\n",
       "    <tr>\n",
       "      <th>3</th>\n",
       "      <td>몰스킨 클래식노트 소프트커버</td>\n",
       "      <td>27600.0</td>\n",
       "      <td>https://search.shopping.naver.com/catalog/4624...</td>\n",
       "      <td>네이버</td>\n",
       "    </tr>\n",
       "    <tr>\n",
       "      <th>4</th>\n",
       "      <td>헨리코튼 Italian Fabric 몰스킨 자켓 AHJAW23501BEX</td>\n",
       "      <td>234060.0</td>\n",
       "      <td>https://search.shopping.naver.com/catalog/4912...</td>\n",
       "      <td>네이버</td>\n",
       "    </tr>\n",
       "  </tbody>\n",
       "</table>\n",
       "</div>"
      ],
      "text/plain": [
       "                                      title    lprice  \\\n",
       "0                            몰스킨 클래식노트 하드커버   28800.0   \n",
       "1      몰스킨 2025 클래식 데일리 다이어리 사파이어블루 하드커버 포켓   32400.0   \n",
       "2          올젠 올젠남성 가을 몰스킨 케주얼 쟈켓 ZOD3KG1312  109700.0   \n",
       "3                           몰스킨 클래식노트 소프트커버   27600.0   \n",
       "4  헨리코튼 Italian Fabric 몰스킨 자켓 AHJAW23501BEX  234060.0   \n",
       "\n",
       "                                                link mall  \n",
       "0  https://search.shopping.naver.com/catalog/4622...  네이버  \n",
       "1  https://search.shopping.naver.com/catalog/5009...  네이버  \n",
       "2  https://search.shopping.naver.com/catalog/5042...  네이버  \n",
       "3  https://search.shopping.naver.com/catalog/4624...  네이버  \n",
       "4  https://search.shopping.naver.com/catalog/4912...  네이버  "
      ]
     },
     "execution_count": 39,
     "metadata": {},
     "output_type": "execute_result"
    }
   ],
   "source": [
    "result_mol['lprice'] = result_mol['lprice'].astype('float')\n",
    "\n",
    "result_mol.head()"
   ]
  },
  {
   "cell_type": "markdown",
   "metadata": {},
   "source": [
    "---\n",
    "## 6. 데이터프레임 저장"
   ]
  },
  {
   "cell_type": "code",
   "execution_count": 41,
   "metadata": {},
   "outputs": [],
   "source": [
    "writer = pd.ExcelWriter(\"../data/data06/06. molskin_diary_in_naver_shop.xlsx\", engine=\"xlsxwriter\")\n",
    "result_mol.to_excel(writer, sheet_name=\"Sheet1\")\n",
    "\n",
    "workbook = writer.book\n",
    "worksheet = writer.sheets[\"Sheet1\"]\n",
    "worksheet.set_column(\"A:A\", 4)\n",
    "worksheet.set_column(\"B:B\", 60)\n",
    "worksheet.set_column(\"C:C\", 10)\n",
    "worksheet.set_column(\"D:D\", 10)\n",
    "worksheet.set_column(\"E:E\", 50)\n",
    "worksheet.set_column(\"F:F\", 10)\n",
    "\n",
    "worksheet.conditional_format(\"C2:C1001\", {\"type\":\"3_color_scale\"})\n",
    "writer.close()"
   ]
  },
  {
   "cell_type": "markdown",
   "metadata": {},
   "source": [
    "---\n",
    "## 7. 데이터 시각화"
   ]
  },
  {
   "cell_type": "code",
   "execution_count": 54,
   "metadata": {},
   "outputs": [
    {
     "data": {
      "image/png": "[encoded data removed]",
      "text/plain": [
       "<Figure size 1500x600 with 1 Axes>"
      ]
     },
     "metadata": {},
     "output_type": "display_data"
    }
   ],
   "source": [
    "import matplotlib.pyplot as plt\n",
    "import seaborn as sns\n",
    "import platform\n",
    "from matplotlib import font_manager, rc\n",
    "\n",
    "get_ipython().run_line_magic(\"matplotlib\", \"inline\")\n",
    "%matplotlib inline\n",
    "\n",
    "rc(\"font\", family=\"Arial Unicode MS\")\n",
    "\n",
    "plt.figure(figsize=(15, 6))\n",
    "sns.countplot(\n",
    "    data = result_mol,\n",
    "    x = result_mol[\"mall\"],\n",
    "    palette=\"RdYlGn\",\n",
    "    hue=result_mol[\"mall\"],\n",
    "    order=result_mol[\"mall\"].value_counts().index\n",
    ")\n",
    "plt.xticks(rotation=90)\n",
    "plt.show()"
   ]
  },
  {
   "cell_type": "code",
   "execution_count": null,
   "metadata": {},
   "outputs": [],
   "source": []
  }
 ],
 "metadata": {
  "kernelspec": {
   "display_name": "eda_study",
   "language": "python",
   "name": "python3"
  },
  "language_info": {
   "codemirror_mode": {
    "name": "ipython",
    "version": 3
   },
   "file_extension": ".py",
   "mimetype": "text/x-python",
   "name": "python",
   "nbconvert_exporter": "python",
   "pygments_lexer": "ipython3",
   "version": "3.8.19"
  }
 },
 "nbformat": 4,
 "nbformat_minor": 2
}
